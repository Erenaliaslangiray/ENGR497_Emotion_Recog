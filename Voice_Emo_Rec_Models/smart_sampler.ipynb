{
 "cells": [
  {
   "cell_type": "code",
   "execution_count": 163,
   "metadata": {},
   "outputs": [],
   "source": [
    "import librosa\n",
    "import joblib\n",
    "import numpy as np\n",
    "import matplotlib.pyplot as plt\n",
    "import math"
   ]
  },
  {
   "cell_type": "code",
   "execution_count": 202,
   "metadata": {},
   "outputs": [],
   "source": [
    "X = joblib.load(\"X_normalized.joblib\")\n",
    "y = joblib.load(\"y_normalized.joblib\")"
   ]
  },
  {
   "cell_type": "code",
   "execution_count": 203,
   "metadata": {},
   "outputs": [],
   "source": [
    "k = []\n",
    "for item in X: \n",
    "    k.append(librosa.feature.spectral_bandwidth(item)[0])"
   ]
  },
  {
   "cell_type": "code",
   "execution_count": 176,
   "metadata": {},
   "outputs": [],
   "source": [
    "q = []\n",
    "for item in X:\n",
    "    q.append(librosa.feature.spectral_contrast(item))"
   ]
  },
  {
   "cell_type": "code",
   "execution_count": 204,
   "metadata": {},
   "outputs": [],
   "source": [
    "finallist = []\n",
    "medlist = []\n",
    "for item in k:\n",
    "    if len(item)<110:\n",
    "        diff = 110 - len(item)\n",
    "        coppy = len(item) / diff\n",
    "        for i in range (len(item)):\n",
    "            if i % int(coppy) == 0:\n",
    "                medlist.append(item[i])\n",
    "                medlist.append(item[i])\n",
    "            else:\n",
    "                medlist.append(item[i])\n",
    "            if len(medlist) == 110:\n",
    "                finallist.append(medlist)\n",
    "                medlist = []\n",
    "                break\n",
    "    elif len(item) == 110:\n",
    "        finallist.append(item)\n",
    "    else:\n",
    "        diff = len(item) - 110\n",
    "        remove = len(item) / diff\n",
    "        ii = 0\n",
    "        for i in range (len(item)):\n",
    "            if ii % math.ceil(remove) == 0:\n",
    "                avgitem = (item[ii] + item[ii+1])/2\n",
    "                medlist.append(avgitem)\n",
    "                ii = ii + 2\n",
    "            else:\n",
    "                medlist.append(item[ii])\n",
    "                ii = ii + 1\n",
    "            if len(medlist) == 110:\n",
    "                finallist.append(medlist)\n",
    "                medlist = []\n",
    "                break"
   ]
  },
  {
   "cell_type": "code",
   "execution_count": 207,
   "metadata": {},
   "outputs": [],
   "source": [
    "from sklearn.model_selection import train_test_split\n",
    "\n",
    "X_train, X_test, y_train, y_test = train_test_split(finallist,np.asanyarray(y), test_size=0.33, random_state=42)"
   ]
  },
  {
   "cell_type": "code",
   "execution_count": 208,
   "metadata": {},
   "outputs": [],
   "source": [
    "x_traincnn = np.expand_dims(X_train, axis=2)\n",
    "x_testcnn = np.expand_dims(X_test, axis=2)"
   ]
  },
  {
   "cell_type": "code",
   "execution_count": 209,
   "metadata": {},
   "outputs": [],
   "source": [
    "model = Sequential()\n",
    "\n",
    "model.add(Conv1D(128, 5,padding='same',\n",
    "                 input_shape=(110,1)))\n",
    "model.add(Activation('relu'))\n",
    "model.add(Dropout(0.1))\n",
    "model.add(MaxPooling1D(pool_size=(8)))\n",
    "model.add(Conv1D(128, 5,padding='same',))\n",
    "model.add(Activation('relu'))\n",
    "model.add(Dropout(0.1))\n",
    "model.add(Flatten())\n",
    "model.add(Dense(8))\n",
    "model.add(Activation('softmax'))\n",
    "opt = keras.optimizers.rmsprop(lr=0.00005, rho=0.9, epsilon=None, decay=0.0)"
   ]
  },
  {
   "cell_type": "code",
   "execution_count": 210,
   "metadata": {},
   "outputs": [],
   "source": [
    "model.compile(loss='sparse_categorical_crossentropy',\n",
    "              optimizer=\"adam\",\n",
    "              metrics=['accuracy'])"
   ]
  },
  {
   "cell_type": "code",
   "execution_count": null,
   "metadata": {},
   "outputs": [],
   "source": [
    "cnnhistory=model.fit(x_traincnn, y_train, batch_size=16, epochs=200, validation_data=(x_testcnn, y_test))"
   ]
  }
 ],
 "metadata": {
  "kernelspec": {
   "display_name": "Python 3",
   "language": "python",
   "name": "python3"
  },
  "language_info": {
   "codemirror_mode": {
    "name": "ipython",
    "version": 3
   },
   "file_extension": ".py",
   "mimetype": "text/x-python",
   "name": "python",
   "nbconvert_exporter": "python",
   "pygments_lexer": "ipython3",
   "version": "3.6.8"
  }
 },
 "nbformat": 4,
 "nbformat_minor": 2
}
