{
 "cells": [
  {
   "cell_type": "code",
   "execution_count": 1,
   "metadata": {},
   "outputs": [],
   "source": [
    "#Author Eren Ali Aslangiray\n",
    "#14.06.2019\n",
    "\n",
    "import joblib\n",
    "import pandas as pd\n",
    "import librosa\n",
    "import pywt\n",
    "import math\n",
    "import numpy as np"
   ]
  },
  {
   "cell_type": "code",
   "execution_count": 3,
   "metadata": {},
   "outputs": [
    {
     "data": {
      "text/plain": [
       "(array([0., 0., 0., ..., 0., 0., 0.], dtype=float32), 3)"
      ]
     },
     "execution_count": 3,
     "metadata": {},
     "output_type": "execute_result"
    }
   ],
   "source": [
    "X = joblib.load(\"X_Updated_joblib7k\")\n",
    "y = joblib.load(\"y_Updated_joblib7k\")\n",
    "X.pop(5519),y.pop(5519)"
   ]
  },
  {
   "cell_type": "code",
   "execution_count": 85,
   "metadata": {},
   "outputs": [
    {
     "data": {
      "text/plain": [
       "7"
      ]
     },
     "execution_count": 85,
     "metadata": {},
     "output_type": "execute_result"
    }
   ],
   "source": [
    "adana = [1,2,3,4,5,6,7]\n",
    "adana[-1]"
   ]
  },
  {
   "cell_type": "code",
   "execution_count": 34,
   "metadata": {},
   "outputs": [],
   "source": [
    "mfcc = []\n",
    "for item in X:\n",
    "    mfccs = np.mean(librosa.feature.mfcc(y=item, sr=22050, n_mfcc=128).T,axis=0)\n",
    "    mfcc.append(mfccs)"
   ]
  },
  {
   "cell_type": "code",
   "execution_count": 44,
   "metadata": {},
   "outputs": [],
   "source": [
    "k = []\n",
    "for item in X: \n",
    "    k.append(librosa.feature.spectral_bandwidth(item)[0])"
   ]
  },
  {
   "cell_type": "code",
   "execution_count": 96,
   "metadata": {
    "scrolled": true
   },
   "outputs": [
    {
     "name": "stdout",
     "output_type": "stream",
     "text": [
      "6996 6996\n"
     ]
    }
   ],
   "source": [
    "finallist = []\n",
    "medlist = []\n",
    "counter1 = 0\n",
    "for item in k:\n",
    "    counter1 = counter1 + 1\n",
    "\n",
    "    if len(item)<128:\n",
    "        medlist = []\n",
    "        diff = 128 - len(item)\n",
    "        coppy = len(item) / diff\n",
    "        if int(coppy)==0:\n",
    "            coppy = math.ceil(coppy)\n",
    "        if len(item)<64:\n",
    "            for i in range (len(item)):\n",
    "                if i % int(coppy) == 0:\n",
    "                    medlist.append(item[i])\n",
    "                    medlist.append(item[i])\n",
    "                else:\n",
    "                    medlist.append(item[i])\n",
    "            diffin = 128-len(medlist)\n",
    "            for i in range (diffin):\n",
    "                medlist.append(item[-1])\n",
    "                if len(medlist) == 128:\n",
    "                    finallist.append(medlist)\n",
    "                    medlist = []\n",
    "                    break\n",
    "            continue\n",
    "        for i in range (len(item)):\n",
    "            if i % int(coppy) == 0:\n",
    "                medlist.append(item[i])\n",
    "                medlist.append(item[i])\n",
    "            else:\n",
    "                medlist.append(item[i])            \n",
    "            if len(medlist) == 128:\n",
    "                finallist.append(medlist)\n",
    "                medlist = []\n",
    "                break\n",
    "    elif len(item) == 128:\n",
    "        finallist.append(item)\n",
    "        continue\n",
    "    else:\n",
    "        diff = len(item) - 128\n",
    "        remove = len(item) / diff\n",
    "        ii = 0\n",
    "        medlist = []\n",
    "        for i in range (len(item)-1):\n",
    "            if ii % math.ceil(remove) == 0:\n",
    "                avgitem = (item[ii-1] + item[ii])/2\n",
    "                medlist.append(avgitem)\n",
    "                ii = ii + 2\n",
    "            else:\n",
    "                medlist.append(item[ii])\n",
    "                ii = ii + 1\n",
    "            if len(medlist) == 128:\n",
    "                finallist.append(medlist)\n",
    "                medlist = []\n",
    "                break\n",
    "print (counter1,len(finallist))"
   ]
  },
  {
   "cell_type": "code",
   "execution_count": 35,
   "metadata": {},
   "outputs": [],
   "source": [
    "sr = 22050\n",
    "X_db = []\n",
    "for item in X:\n",
    "    S = librosa.feature.melspectrogram(y=item, sr=sr)\n",
    "    k = np.mean(librosa.amplitude_to_db(S, ref=np.max).T,axis=0)\n",
    "    X_db.append(k)"
   ]
  },
  {
   "cell_type": "code",
   "execution_count": 36,
   "metadata": {},
   "outputs": [],
   "source": [
    "waveletted = []\n",
    "for item in X:\n",
    "    a,b = pywt.dwt(item, 'db1')\n",
    "    waveletted.append(a)"
   ]
  },
  {
   "cell_type": "code",
   "execution_count": 37,
   "metadata": {},
   "outputs": [],
   "source": [
    "X2_new = []\n",
    "a_new= []\n",
    "for i in range(len(waveletted)):\n",
    "    for item in waveletted[i]:\n",
    "        if item > 0.001:\n",
    "            a_new.append(item)\n",
    "    X2_new.append(a_new)\n",
    "    a_new = []"
   ]
  },
  {
   "cell_type": "code",
   "execution_count": 38,
   "metadata": {},
   "outputs": [],
   "source": [
    "sample_final = []\n",
    "sampled_list = []\n",
    "for i in range(len(X2_new)):\n",
    "    k = 0\n",
    "    sums = 0\n",
    "    for item in X2_new[i]:\n",
    "        if len(sampled_list) == 128:\n",
    "            continue\n",
    "        sums = item + sums\n",
    "        k = k+1\n",
    "        if k == int(len(X2_new[i])/128):\n",
    "            sampled_list.append(sums/k)\n",
    "            k=0\n",
    "            sums=0\n",
    "    sample_final.append(sampled_list)\n",
    "    sampled_list=[]"
   ]
  },
  {
   "cell_type": "code",
   "execution_count": 88,
   "metadata": {},
   "outputs": [
    {
     "data": {
      "text/plain": [
       "(6996, 6252, 6996, 6996)"
      ]
     },
     "execution_count": 88,
     "metadata": {},
     "output_type": "execute_result"
    }
   ],
   "source": [
    "len(k),len(finallist),len(X_db),len(sample_final)"
   ]
  },
  {
   "cell_type": "code",
   "execution_count": 98,
   "metadata": {},
   "outputs": [],
   "source": [
    "x = []\n",
    "for i in range(len(X)):\n",
    "    x_t = []\n",
    "    x_t.append(finallist[i])\n",
    "    x_t.append(X_db[i])\n",
    "    x_t.append(sample_final[i])\n",
    "    x_t.append(mfcc[i])\n",
    "    x.append(x_t)"
   ]
  },
  {
   "cell_type": "code",
   "execution_count": 99,
   "metadata": {},
   "outputs": [],
   "source": [
    "y = np.asarray(y)\n",
    "y2 = np.zeros((y.shape[0], 4),dtype=np.float32)\n",
    "y2[np.arange(y.shape[0]), y] = 1.0"
   ]
  },
  {
   "cell_type": "code",
   "execution_count": 145,
   "metadata": {},
   "outputs": [],
   "source": [
    "from sklearn.model_selection import train_test_split\n",
    "\n",
    "x_train, x_test, y_train, y_test = train_test_split(    \n",
    "    np.asarray(adana), y2, test_size=0.20, random_state=42) "
   ]
  },
  {
   "cell_type": "code",
   "execution_count": 129,
   "metadata": {},
   "outputs": [],
   "source": [
    "from keras.models import Sequential\n",
    "from keras.layers import Dense ,LSTM, Dropout\n",
    "import numpy as np\n",
    "from keras.callbacks import EarlyStopping,ModelCheckpoint\n",
    "import keras"
   ]
  },
  {
   "cell_type": "code",
   "execution_count": 149,
   "metadata": {},
   "outputs": [],
   "source": [
    "model = Sequential()\n",
    "model.add(LSTM(128, dropout=0.25, recurrent_dropout=0.25, input_shape=(4, 128)))\n",
    "model.add(Dense(64,activation=\"relu\"))\n",
    "#model.add(Dropout(0.25))\n",
    "model.add(Dense(32,activation=\"relu\"))\n",
    "model.add(Dense(16,activation=\"relu\"))\n",
    "model.add(Dense(8,activation=\"relu\"))\n",
    "model.add(Dense(4, activation='softmax'))\n",
    "\n",
    "earlystopper = EarlyStopping(monitor='val_loss', min_delta=1e-3, patience=20, verbose=1, mode='auto')\n",
    "checkpointer = ModelCheckpoint(filepath=\"best_weights.hdf5\", verbose=0, save_best_only=True) # save best model\n",
    "model.compile(loss='categorical_crossentropy',\n",
    "              optimizer=\"adam\",\n",
    "              metrics=['accuracy'])"
   ]
  },
  {
   "cell_type": "code",
   "execution_count": 150,
   "metadata": {
    "scrolled": true
   },
   "outputs": [
    {
     "name": "stdout",
     "output_type": "stream",
     "text": [
      "Epoch 00103: early stopping\n"
     ]
    }
   ],
   "source": [
    "model.fit(x_train,y_train,validation_data=(x_test,y_test),batch_size=64,\n",
    "          verbose=0,callbacks=[earlystopper,checkpointer],epochs=1000)\n",
    "model.load_weights('best_weights.hdf5')"
   ]
  },
  {
   "cell_type": "code",
   "execution_count": 151,
   "metadata": {},
   "outputs": [
    {
     "name": "stdout",
     "output_type": "stream",
     "text": [
      "Final accuracy: 0.8021428571428572\n",
      "Final log_loss: 0.4630882895983926\n"
     ]
    }
   ],
   "source": [
    "from sklearn import metrics\n",
    "pred = model.predict(x_test)\n",
    "pred2 = np.argmax(pred,axis=1)\n",
    "y_compare = np.argmax(y_test,axis=1)\n",
    "score = metrics.accuracy_score(y_compare, pred2)\n",
    "score2 = metrics.log_loss(y_compare, pred)\n",
    "print(\"Final accuracy: {}\".format(score))\n",
    "print(\"Final log_loss: {}\".format(score2))"
   ]
  }
 ],
 "metadata": {
  "kernelspec": {
   "display_name": "Python 3",
   "language": "python",
   "name": "python3"
  },
  "language_info": {
   "codemirror_mode": {
    "name": "ipython",
    "version": 3
   },
   "file_extension": ".py",
   "mimetype": "text/x-python",
   "name": "python",
   "nbconvert_exporter": "python",
   "pygments_lexer": "ipython3",
   "version": "3.6.8"
  }
 },
 "nbformat": 4,
 "nbformat_minor": 2
}
