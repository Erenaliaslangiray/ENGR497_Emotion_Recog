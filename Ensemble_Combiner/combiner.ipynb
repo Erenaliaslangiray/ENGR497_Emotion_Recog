{
 "cells": [
  {
   "cell_type": "code",
   "execution_count": 1,
   "metadata": {},
   "outputs": [],
   "source": [
    "t1 = [(\"happy\",0.6), (\"sad\",0.3), (\"neutral\",0.05), (\"surprise\",0.05)]\n",
    "t2 = [(\"sad\",0.7), (\"anger\", 0.1), (\"neutral\", 0.1) , (\"happy\", 0.1)]\n",
    "t3 = [(\"negative\", 0.8), (\"positive\", 0.2)]"
   ]
  },
  {
   "cell_type": "code",
   "execution_count": 4,
   "metadata": {},
   "outputs": [],
   "source": [
    "def combiner (m1,m2,b1,penalty = 1.0):\n",
    "    if len(m1) + len(m2) + len(b1)!=10:\n",
    "        print (\"ERROR:_01_ : There is an error with lenght of the input dictionaries. Please check the inputs.\")\n",
    "        return\n",
    "    #Penalty must be defined between 1-2 to get more healty results.\n",
    "    if penalty <= 0:\n",
    "        print (\"ERROR:_02_ : Penalty value must be greater than 0.\")\n",
    "        return\n",
    "    #Checks whether pos and neg are equal so no calculation will be done.\n",
    "    if b1[0][1] == b1[1][1]:\n",
    "        m1_buffed = m1\n",
    "        m2_buffed = m2\n",
    "    if b1[0][0] == \"negative\":\n",
    "        negrate = b1[0][1]\n",
    "    else:\n",
    "        negrate = b1[1][1]\n",
    "    m1_buffed = calculator(m1,negrate,penalty)\n",
    "    m2_buffed = calculator(m2,negrate,penalty)\n",
    "    \n",
    "    return m1_buffed , m2_buffed\n",
    "        \n",
    "def calculator (listin, neg_rate, p):\n",
    "    #rate1 = negative\n",
    "    whitelist = [\"happy\", \"surprise\", \"neutral\"]\n",
    "    blacklist = [\"anger\", \"disgust\", \"sad\", \"fear\"]\n",
    "    pos_rate = 1.0 - neg_rate\n",
    "    if pos_rate > neg_rate:\n",
    "        pos_rate = pos_rate * 10 * p/2\n",
    "        neg_rate = neg_rate * 10 / p/2\n",
    "    else:\n",
    "        pos_rate = pos_rate * 10 / p/2\n",
    "        neg_rate = neg_rate * 10 * p/2\n",
    "    ailist = []\n",
    "    for i in range (len(listin)):\n",
    "        if listin[i][0] in whitelist:\n",
    "            ailist.append(listin[i][1] * pos_rate)\n",
    "        else:\n",
    "            ailist.append(listin[i][1] * neg_rate)\n",
    "    sumup = sum(ailist)\n",
    "    for i in range (len(ailist)):\n",
    "        ailist[i] = (ailist[i]*100/sumup)\n",
    "    finallist = []\n",
    "    for i in range (len(listin)):\n",
    "        finallist.append((listin[i][0],ailist[i]))\n",
    "    return finallist"
   ]
  },
  {
   "cell_type": "code",
   "execution_count": 5,
   "metadata": {},
   "outputs": [
    {
     "data": {
      "text/plain": [
       "([('happy', 31.578947368421048),\n",
       "  ('sad', 63.15789473684211),\n",
       "  ('neutral', 2.631578947368421),\n",
       "  ('surprise', 2.631578947368421)],\n",
       " [('sad', 82.3529411764706),\n",
       "  ('anger', 11.764705882352942),\n",
       "  ('neutral', 2.941176470588235),\n",
       "  ('happy', 2.941176470588235)])"
      ]
     },
     "execution_count": 5,
     "metadata": {},
     "output_type": "execute_result"
    }
   ],
   "source": [
    "combiner(t1,t2,t3, 1)"
   ]
  },
  {
   "cell_type": "code",
   "execution_count": null,
   "metadata": {},
   "outputs": [],
   "source": []
  }
 ],
 "metadata": {
  "kernelspec": {
   "display_name": "Python 3",
   "language": "python",
   "name": "python3"
  },
  "language_info": {
   "codemirror_mode": {
    "name": "ipython",
    "version": 3
   },
   "file_extension": ".py",
   "mimetype": "text/x-python",
   "name": "python",
   "nbconvert_exporter": "python",
   "pygments_lexer": "ipython3",
   "version": "3.6.8"
  }
 },
 "nbformat": 4,
 "nbformat_minor": 2
}
