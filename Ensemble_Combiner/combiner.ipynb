{
 "cells": [
  {
   "cell_type": "code",
   "execution_count": 20,
   "metadata": {},
   "outputs": [],
   "source": [
    "#Author: Eren Ali Aslangiray\n",
    "\n",
    "t1 = [(\"happy\",0.6), (\"sad\",0.3), (\"neutral\",0.05), (\"angry\",0.05)]\n",
    "t3 = [(\"negative\", 0.8), (\"positive\", 0.2)]"
   ]
  },
  {
   "cell_type": "code",
   "execution_count": 21,
   "metadata": {},
   "outputs": [],
   "source": [
    "def combiner (m1,b1,penalty = 1.0):\n",
    "    if penalty == 0:\n",
    "        return m1\n",
    "    if b1[0][1] == b1[1][1]:\n",
    "        m1_buffed = m1\n",
    "    if b1[0][0] == \"negative\":\n",
    "        negrate = b1[0][1]\n",
    "    else:\n",
    "        negrate = b1[1][1]\n",
    "    m1_buffed = calculator(m1,negrate,penalty)\n",
    "    return m1_buffed\n",
    "        \n",
    "def calculator (listin, neg_rate, p):\n",
    "    #rate1 = negative\n",
    "    whitelist = [\"happy\", \"neutral\"]\n",
    "    blacklist = [\"anger\", \"sad\"]\n",
    "    pos_rate = 1.0 - neg_rate\n",
    "    if pos_rate > neg_rate:\n",
    "        pos_rate = pos_rate * 10 * p/2\n",
    "        neg_rate = neg_rate * 10 / p/2\n",
    "    else:\n",
    "        pos_rate = pos_rate * 10 / p/2\n",
    "        neg_rate = neg_rate * 10 * p/2\n",
    "    ailist = []\n",
    "    for i in range (len(listin)):\n",
    "        if listin[i][0] in whitelist:\n",
    "            ailist.append(listin[i][1] * pos_rate)\n",
    "        else:\n",
    "            ailist.append(listin[i][1] * neg_rate)\n",
    "    sumup = sum(ailist)\n",
    "    for i in range (len(ailist)):\n",
    "        ailist[i] = (ailist[i]*100/sumup)\n",
    "    finallist = []\n",
    "    for i in range (len(listin)):\n",
    "        finallist.append((listin[i][0],ailist[i]))\n",
    "    return finallist"
   ]
  },
  {
   "cell_type": "code",
   "execution_count": 19,
   "metadata": {},
   "outputs": [
    {
     "data": {
      "text/plain": [
       "[('happy', 29.268292682926823),\n",
       " ('sad', 58.53658536585366),\n",
       " ('neutral', 2.4390243902439024),\n",
       " ('surprise', 9.756097560975611)]"
      ]
     },
     "execution_count": 19,
     "metadata": {},
     "output_type": "execute_result"
    }
   ],
   "source": [
    "combiner(t1,t3,1)"
   ]
  },
  {
   "cell_type": "code",
   "execution_count": null,
   "metadata": {},
   "outputs": [],
   "source": []
  }
 ],
 "metadata": {
  "kernelspec": {
   "display_name": "Python 3",
   "language": "python",
   "name": "python3"
  },
  "language_info": {
   "codemirror_mode": {
    "name": "ipython",
    "version": 3
   },
   "file_extension": ".py",
   "mimetype": "text/x-python",
   "name": "python",
   "nbconvert_exporter": "python",
   "pygments_lexer": "ipython3",
   "version": "3.6.8"
  }
 },
 "nbformat": 4,
 "nbformat_minor": 2
}
