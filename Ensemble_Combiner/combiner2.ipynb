{
 "cells": [
  {
   "cell_type": "code",
   "execution_count": 2,
   "metadata": {},
   "outputs": [],
   "source": [
    "#Author: Eren Ali Aslangiray\n",
    "\n",
    "from collections import Counter\n",
    "from functools import reduce\n",
    "from itertools import groupby\n",
    "\n",
    "# 0 = neutral, 1 = angry, 2 = happy, 3 = sad"
   ]
  },
  {
   "cell_type": "code",
   "execution_count": 3,
   "metadata": {},
   "outputs": [],
   "source": [
    "v = [1, 1, 3, 1, 1, 1, 3, 1, 1, 1, 3, 1]\n",
    "t = [('sad', 99.99999804864211), ('happy', 3.821927039073454e-09), ('anger', 1.4953599708201748e-06), ('neutral', 4.52175991176428e-07)]\n",
    "labeldict = {\"sad\":3,\"neutral\":0,\"anger\":1,\"happy\":2}"
   ]
  },
  {
   "cell_type": "code",
   "execution_count": 6,
   "metadata": {},
   "outputs": [],
   "source": [
    "def reduceByKey(func, iterable):\n",
    "    get_first = lambda p: p[0]\n",
    "    get_second = lambda p: p[1]\n",
    "    return map(\n",
    "        lambda l: (l[0], reduce(func, map(get_second, l[1]))),\n",
    "        groupby(sorted(iterable, key=get_first), get_first))\n",
    "\n",
    "def voice_text_combiner(voice_results,text_results,coef=1):\n",
    "    arr = list(Counter(voice_results).items())\n",
    "    voice_prob = []\n",
    "    for item in arr:\n",
    "        voice_prob.append((item[0],item[1]/12))\n",
    "    textlabeled = []\n",
    "    for item in text_results:\n",
    "        textlabeled.append((labeldict[item[0]] , int(item[1]) * 0.01))\n",
    "    merged_list = list(reduceByKey(lambda x, y: x + y,list(Counter(voice_prob + textlabeled))))\n",
    "    q = 0\n",
    "    for item in merged_list:\n",
    "        if q < item[1]:\n",
    "            q = item[1]\n",
    "    for item in merged_list:\n",
    "        if item[1] == q:\n",
    "            return((item[0],item[1]/2))"
   ]
  },
  {
   "cell_type": "code",
   "execution_count": 7,
   "metadata": {},
   "outputs": [
    {
     "data": {
      "text/plain": [
       "(3, 0.62)"
      ]
     },
     "execution_count": 7,
     "metadata": {},
     "output_type": "execute_result"
    }
   ],
   "source": [
    "voice_text_combiner(v,t)"
   ]
  }
 ],
 "metadata": {
  "kernelspec": {
   "display_name": "Python 3",
   "language": "python",
   "name": "python3"
  },
  "language_info": {
   "codemirror_mode": {
    "name": "ipython",
    "version": 3
   },
   "file_extension": ".py",
   "mimetype": "text/x-python",
   "name": "python",
   "nbconvert_exporter": "python",
   "pygments_lexer": "ipython3",
   "version": "3.6.8"
  }
 },
 "nbformat": 4,
 "nbformat_minor": 2
}
