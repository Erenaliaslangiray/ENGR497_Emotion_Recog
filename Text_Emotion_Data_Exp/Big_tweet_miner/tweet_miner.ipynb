{
 "cells": [
  {
   "cell_type": "code",
   "execution_count": 1,
   "metadata": {},
   "outputs": [],
   "source": [
    "#Author: Eren Ali Aslangiray\n",
    "\n",
    "import pandas as pd\n",
    "import tweepy\n",
    "import time"
   ]
  },
  {
   "cell_type": "code",
   "execution_count": null,
   "metadata": {},
   "outputs": [],
   "source": [
    "auth = tweepy.OAuthHandler(\"xxx\", \"yyy\")\n",
    "auth.set_access_token(\"xxx1\", \"yyy1\")\n",
    "\n",
    "try:\n",
    "    redirect_url = auth.get_authorization_url()\n",
    "except tweepy.TweepError:\n",
    "    print('Error! Failed to get request token.')\n",
    "    \n",
    "api = tweepy.API(auth)"
   ]
  },
  {
   "cell_type": "code",
   "execution_count": null,
   "metadata": {},
   "outputs": [],
   "source": [
    "def tweetminer(id):\n",
    "    tweet = api.get_status(id)\n",
    "    return tweet.text"
   ]
  },
  {
   "cell_type": "code",
   "execution_count": null,
   "metadata": {},
   "outputs": [],
   "source": [
    "def dfminer(df):\n",
    "    df = df.reset_index(drop=True)\n",
    "    df[2] = \"aslangiray\"\n",
    "    errorlist = []\n",
    "    for i in range (len(df)):\n",
    "        if i%5000 == 0:\n",
    "            print(i)\n",
    "        #if i%250000 == 0:\n",
    "            #df.to_json(\"/Users/path/checkpoint_\"+str(i)+\".json\") #Location for checkpoint saves.\n",
    "        if df[2][i] == \"aslangiray\":\n",
    "            try:\n",
    "                x = (tweetminer(df[0][i]))\n",
    "                df[2][i] = x\n",
    "            except tweepy.TweepError as e:\n",
    "                e1 = \"'code': 88\" in str(e)\n",
    "                e2 = \"'code': 144\" in str(e)\n",
    "                e3 = \"'code': 179\" in str(e)\n",
    "                e4 = \"'code': 34\" in str(e)\n",
    "                e5 = \"'code': 63\" in str(e)\n",
    "                if e1 == True:\n",
    "                    print (\"Have code 88 error, waiting 5 min.\")\n",
    "                    time.sleep((60*5)+5)\n",
    "                elif e2 == True:\n",
    "                    df[2][i] = \"delet dis pls\"\n",
    "                elif e3 == True:\n",
    "                    df[2][i] = \"delet dis pls\"\n",
    "                elif e4 == True:\n",
    "                    df[2][i] = \"delet dis pls\"\n",
    "                elif e5 == True:\n",
    "                    df[2][i] = \"delet dis pls\"\n",
    "                else:\n",
    "                    errorlist.append(i)\n",
    "                    errorlist.append(e)\n",
    "    df.to_json(\"/Users/path/checkpoint_Final.json\")"
   ]
  },
  {
   "cell_type": "code",
   "execution_count": null,
   "metadata": {},
   "outputs": [],
   "source": [
    "df = pd.read_json(\"/Users/erenmac/Desktop/NEW_DATA/tweets.json\")"
   ]
  },
  {
   "cell_type": "code",
   "execution_count": null,
   "metadata": {},
   "outputs": [],
   "source": [
    "dfminer(df)"
   ]
  },
  {
   "cell_type": "code",
   "execution_count": null,
   "metadata": {},
   "outputs": [],
   "source": []
  }
 ],
 "metadata": {
  "kernelspec": {
   "display_name": "Python 3",
   "language": "python",
   "name": "python3"
  },
  "language_info": {
   "codemirror_mode": {
    "name": "ipython",
    "version": 3
   },
   "file_extension": ".py",
   "mimetype": "text/x-python",
   "name": "python",
   "nbconvert_exporter": "python",
   "pygments_lexer": "ipython3",
   "version": "3.6.8"
  }
 },
 "nbformat": 4,
 "nbformat_minor": 2
}
