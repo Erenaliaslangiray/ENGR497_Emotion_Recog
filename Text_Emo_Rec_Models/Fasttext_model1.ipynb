{
 "cells": [
  {
   "cell_type": "code",
   "execution_count": 1,
   "metadata": {},
   "outputs": [],
   "source": [
    "#Author: Sümeyye Sena Eminmollaoğlu\n",
    "\n",
    "import os\n",
    "import pandas as pd\n",
    "import fasttext\n",
    "from sklearn.utils import shuffle"
   ]
  },
  {
   "cell_type": "code",
   "execution_count": 2,
   "metadata": {},
   "outputs": [],
   "source": [
    "classifier = fasttext.supervised('emotion.train.txt', 'model', label_prefix='__label__') "
   ]
  },
  {
   "cell_type": "code",
   "execution_count": 3,
   "metadata": {},
   "outputs": [],
   "source": [
    "result = classifier.test('emotion.test.txt')"
   ]
  },
  {
   "cell_type": "code",
   "execution_count": 4,
   "metadata": {},
   "outputs": [
    {
     "name": "stdout",
     "output_type": "stream",
     "text": [
      "P@1: 0.8838618826842786\n",
      "R@1: 0.8838618826842786\n",
      "Number of examples: 121433\n"
     ]
    }
   ],
   "source": [
    "print ('P@1:', result.precision)\n",
    "print ('R@1:', result.recall)\n",
    "print ('Number of examples:', result.nexamples)"
   ]
  },
  {
   "cell_type": "code",
   "execution_count": 5,
   "metadata": {},
   "outputs": [
    {
     "name": "stdout",
     "output_type": "stream",
     "text": [
      "[['neutral']]\n",
      "[[('neutral', 0.414063)]]\n"
     ]
    }
   ],
   "source": [
    "texts = [\"spiders freak me out. I don't like them.\"]\n",
    "labels = classifier.predict(texts)\n",
    "print (labels)\n",
    "\n",
    "# Or with the probability\n",
    "labels = classifier.predict_proba(texts)\n",
    "print (labels)"
   ]
  },
  {
   "cell_type": "code",
   "execution_count": 6,
   "metadata": {},
   "outputs": [
    {
     "name": "stdout",
     "output_type": "stream",
     "text": [
      "[['neutral', 'sad', 'anger', 'happy']]\n"
     ]
    }
   ],
   "source": [
    "labels = classifier.predict(texts, k=4)\n",
    "print (labels)"
   ]
  },
  {
   "cell_type": "code",
   "execution_count": 7,
   "metadata": {},
   "outputs": [
    {
     "name": "stdout",
     "output_type": "stream",
     "text": [
      "[[('neutral', 0.414063), ('sad', 0.214844), ('anger', 0.15625), ('happy', 0.113281)]]\n"
     ]
    }
   ],
   "source": [
    "labels = classifier.predict_proba(texts, k=4)\n",
    "print (labels)"
   ]
  },
  {
   "cell_type": "code",
   "execution_count": 8,
   "metadata": {},
   "outputs": [],
   "source": [
    "import random\n",
    "with open('emotion.txt','r') as source:\n",
    "    data = [ (random.random(), line) for line in source ]\n",
    "data.sort()\n",
    "with open('output.txt','w') as target:\n",
    "    for _, line in data:\n",
    "        target.write( line )"
   ]
  },
  {
   "cell_type": "code",
   "execution_count": 9,
   "metadata": {},
   "outputs": [],
   "source": [
    "classifier_binary = fasttext.supervised('binary_train.txt', 'model', label_prefix='__label__') "
   ]
  },
  {
   "cell_type": "code",
   "execution_count": 10,
   "metadata": {},
   "outputs": [],
   "source": [
    "result_binary = classifier_binary.test('binary_test.txt')"
   ]
  },
  {
   "cell_type": "code",
   "execution_count": 11,
   "metadata": {
    "scrolled": true
   },
   "outputs": [
    {
     "name": "stdout",
     "output_type": "stream",
     "text": [
      "P@1: 0.7645203191686769\n",
      "R@1: 0.7645203191686769\n",
      "Number of examples: 21556\n"
     ]
    }
   ],
   "source": [
    "print ('P@1:', result_binary.precision)\n",
    "print ('R@1:', result_binary.recall)\n",
    "print ('Number of examples:', result_binary.nexamples)\n"
   ]
  },
  {
   "cell_type": "code",
   "execution_count": null,
   "metadata": {},
   "outputs": [],
   "source": []
  }
 ],
 "metadata": {
  "kernelspec": {
   "display_name": "Python 3",
   "language": "python",
   "name": "python3"
  },
  "language_info": {
   "codemirror_mode": {
    "name": "ipython",
    "version": 3
   },
   "file_extension": ".py",
   "mimetype": "text/x-python",
   "name": "python",
   "nbconvert_exporter": "python",
   "pygments_lexer": "ipython3",
   "version": "3.6.8"
  }
 },
 "nbformat": 4,
 "nbformat_minor": 2
}
