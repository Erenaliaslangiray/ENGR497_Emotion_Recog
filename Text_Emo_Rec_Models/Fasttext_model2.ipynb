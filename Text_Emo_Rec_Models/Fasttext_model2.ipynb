{
 "cells": [
  {
   "cell_type": "code",
   "execution_count": 1,
   "metadata": {},
   "outputs": [],
   "source": [
    "#Author: Eren Ali Aslangiray\n",
    "\n",
    "import pandas as pd\n",
    "import fasttext as ft"
   ]
  },
  {
   "cell_type": "markdown",
   "metadata": {},
   "source": [
    "# Multilabel Classifier"
   ]
  },
  {
   "cell_type": "code",
   "execution_count": 10,
   "metadata": {},
   "outputs": [],
   "source": [
    "classifier_multilabel = ft.supervised('emotion.train.txt', 'multilabel_emotion', label_prefix='__label__', loss= \"hs\")\n",
    "result_multilabel = classifier_multilabel.test('emotion.test.txt')"
   ]
  },
  {
   "cell_type": "code",
   "execution_count": 2,
   "metadata": {},
   "outputs": [],
   "source": [
    "multilabel_restored = ft.load_model(\"multilabel_emotion.bin\", label_prefix='__label__')\n",
    "result_multilabel = multilabel_restored.test('emotion.test.txt')"
   ]
  },
  {
   "cell_type": "code",
   "execution_count": 11,
   "metadata": {},
   "outputs": [],
   "source": [
    "p = result_multilabel.precision\n",
    "r = result_multilabel.recall"
   ]
  },
  {
   "cell_type": "code",
   "execution_count": 12,
   "metadata": {},
   "outputs": [
    {
     "name": "stdout",
     "output_type": "stream",
     "text": [
      "P@1: 0.8846030321247107\n",
      "R@1: 0.8846030321247107\n",
      "F1-Score: 0.8846030321247107\n"
     ]
    }
   ],
   "source": [
    "F_measure = 2 * ((p * r) / (p + r))\n",
    "print ('P@1:', p)\n",
    "print ('R@1:', r)\n",
    "print (\"F1-Score:\", F_measure)"
   ]
  },
  {
   "cell_type": "code",
   "execution_count": 13,
   "metadata": {},
   "outputs": [
    {
     "name": "stdout",
     "output_type": "stream",
     "text": [
      "[('happy', 0.699219), ('sad', 0.187935), ('neutral', 0.0747394), ('anger', 0.0344718)]\n"
     ]
    }
   ],
   "source": [
    "#Custom testing.\n",
    "texts = [\"I want to kiss you.\"]\n",
    "labels = multilabel_restored.predict_proba(texts, k=4)\n",
    "labels = labels[0]\n",
    "print (labels)"
   ]
  },
  {
   "cell_type": "markdown",
   "metadata": {},
   "source": [
    "# Binary Classifier"
   ]
  },
  {
   "cell_type": "code",
   "execution_count": 70,
   "metadata": {},
   "outputs": [],
   "source": [
    "classifier_binary = ft.supervised('binary_train.txt', 'binary_emotion', label_prefix='__label__')\n",
    "result_binary = classifier_binary.test('binary_test.txt')"
   ]
  },
  {
   "cell_type": "code",
   "execution_count": 71,
   "metadata": {},
   "outputs": [],
   "source": [
    "binary_restored = ft.load_model(\"binary_emotion.bin\", label_prefix='__label__')\n",
    "result_binary = binary_restored.test('binary_test.txt')"
   ]
  },
  {
   "cell_type": "code",
   "execution_count": 72,
   "metadata": {},
   "outputs": [],
   "source": [
    "pb = result_binary.precision\n",
    "rb = result_binary.recall"
   ]
  },
  {
   "cell_type": "code",
   "execution_count": 73,
   "metadata": {},
   "outputs": [
    {
     "name": "stdout",
     "output_type": "stream",
     "text": [
      "P@1: 0.7655409166821303\n",
      "R@1: 0.7655409166821303\n",
      "F1-Score: 0.7655409166821303\n"
     ]
    }
   ],
   "source": [
    "F_measure_b = 2 * ((pb * rb) / (pb + rb))\n",
    "print ('P@1:', pb)\n",
    "print ('R@1:', rb)\n",
    "print (\"F1-Score:\", F_measure_b)"
   ]
  },
  {
   "cell_type": "code",
   "execution_count": 45,
   "metadata": {},
   "outputs": [
    {
     "name": "stdout",
     "output_type": "stream",
     "text": [
      "[('positive', 0.716797), ('negative', 0.28125)]\n"
     ]
    }
   ],
   "source": [
    "#Custom testing.\n",
    "texts_b = [\"I want to kiss you\"]\n",
    "labels_b = binary_restored.predict_proba(texts_b , k=2)\n",
    "labels_b = labels_b[0]\n",
    "print (labels_b)"
   ]
  }
 ],
 "metadata": {
  "kernelspec": {
   "display_name": "Python 3",
   "language": "python",
   "name": "python3"
  },
  "language_info": {
   "codemirror_mode": {
    "name": "ipython",
    "version": 3
   },
   "file_extension": ".py",
   "mimetype": "text/x-python",
   "name": "python",
   "nbconvert_exporter": "python",
   "pygments_lexer": "ipython3",
   "version": "3.6.8"
  }
 },
 "nbformat": 4,
 "nbformat_minor": 2
}
